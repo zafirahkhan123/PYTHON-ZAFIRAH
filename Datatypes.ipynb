{
 "cells": [
  {
   "cell_type": "code",
   "execution_count": 21,
   "id": "405e38ee",
   "metadata": {},
   "outputs": [
    {
     "data": {
      "text/plain": [
       "int"
      ]
     },
     "execution_count": 21,
     "metadata": {},
     "output_type": "execute_result"
    }
   ],
   "source": [
    "i=50\n",
    "i\n",
    "type(i)"
   ]
  },
  {
   "cell_type": "code",
   "execution_count": 2,
   "id": "92d85546",
   "metadata": {},
   "outputs": [
    {
     "data": {
      "text/plain": [
       "float"
      ]
     },
     "execution_count": 2,
     "metadata": {},
     "output_type": "execute_result"
    }
   ],
   "source": [
    "q=3.14\n",
    "type(q)"
   ]
  },
  {
   "cell_type": "code",
   "execution_count": null,
   "id": "5f1c6c77",
   "metadata": {},
   "outputs": [
    {
     "data": {
      "text/plain": [
       "True"
      ]
     },
     "execution_count": 3,
     "metadata": {},
     "output_type": "execute_result"
    }
   ],
   "source": [
    "3==3.0 #Data types afre  considered differently"
   ]
  },
  {
   "cell_type": "code",
   "execution_count": null,
   "id": "aa89f810",
   "metadata": {},
   "outputs": [
    {
     "name": "stdout",
     "output_type": "stream",
     "text": [
      "my nme is Zafirah Khan\n",
      "How are you\n",
      "3my nme is Zafirah Khan\n",
      "How are you\n",
      "NET FLIX\n",
      "NETFLIX\n",
      "<class 'str'>\n",
      "god\n"
     ]
    }
   ],
   "source": [
    "name='''my nme is Zafirah Khan\n",
    "How are you'''\n",
    "print(name)\n",
    "a=\"3\"\n",
    "type(a)\n",
    "print(a+name)\n",
    "print(\"NET \"+\"FLIX\")\n",
    "print(\"NET\"+\"FLIX\")\n",
    "print(type(name)) #Displays a raw output\n",
    "m= \"god\"\n",
    "m   # IT WILL GIVE RAW OUTPUT WITH SINGLE QUOTES BUT WITH PRINT IT WILL GIVE \"formatted output \" with no quotes\n"
   ]
  },
  {
   "cell_type": "code",
   "execution_count": 17,
   "id": "2b4b11ac",
   "metadata": {},
   "outputs": [
    {
     "name": "stdout",
     "output_type": "stream",
     "text": [
      "1 2 3\n",
      "(1, 2, 3)\n"
     ]
    },
    {
     "data": {
      "text/plain": [
       "tuple"
      ]
     },
     "execution_count": 17,
     "metadata": {},
     "output_type": "execute_result"
    }
   ],
   "source": [
    "m=a,b,c=1,2,3\n",
    "print(a,b,c)\n",
    "print(m)\n",
    "type(m)"
   ]
  },
  {
   "cell_type": "code",
   "execution_count": 22,
   "id": "8101f7d7",
   "metadata": {},
   "outputs": [],
   "source": [
    "First=True\n",
    "Last=False"
   ]
  },
  {
   "cell_type": "code",
   "execution_count": 20,
   "id": "fe6bccec",
   "metadata": {},
   "outputs": [
    {
     "name": "stdout",
     "output_type": "stream",
     "text": [
      "113.03999999999999\n"
     ]
    }
   ],
   "source": [
    "number=int(input(\"Enter a number\"))\n",
    "area=3.14*number*number\n",
    "print(area)"
   ]
  },
  {
   "cell_type": "code",
   "execution_count": 23,
   "id": "88556c3b",
   "metadata": {},
   "outputs": [
    {
     "name": "stdout",
     "output_type": "stream",
     "text": [
      "None\n"
     ]
    }
   ],
   "source": [
    "x=None\n",
    "print(x)"
   ]
  }
 ],
 "metadata": {
  "kernelspec": {
   "display_name": "base",
   "language": "python",
   "name": "python3"
  },
  "language_info": {
   "codemirror_mode": {
    "name": "ipython",
    "version": 3
   },
   "file_extension": ".py",
   "mimetype": "text/x-python",
   "name": "python",
   "nbconvert_exporter": "python",
   "pygments_lexer": "ipython3",
   "version": "3.12.4"
  }
 },
 "nbformat": 4,
 "nbformat_minor": 5
}
