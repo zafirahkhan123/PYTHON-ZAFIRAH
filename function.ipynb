{
 "cells": [
  {
   "cell_type": "code",
   "execution_count": 15,
   "id": "ac08f530",
   "metadata": {},
   "outputs": [
    {
     "data": {
      "text/plain": [
       "'\\nuser defined function\\nparameterized function\\nnon para meterized function\\nreturn function\\nnon return function default parameterized function\\nlambda function\\n\\nbuilt in function'"
      ]
     },
     "execution_count": 15,
     "metadata": {},
     "output_type": "execute_result"
    }
   ],
   "source": [
    "'''\n",
    "user defined function\n",
    "parameterized function\n",
    "non para meterized function\n",
    "return function\n",
    "non return function default parameterized function\n",
    "lambda function\n",
    "\n",
    "built in function'''"
   ]
  },
  {
   "cell_type": "code",
   "execution_count": 16,
   "id": "aecf60c9",
   "metadata": {},
   "outputs": [
    {
     "name": "stdout",
     "output_type": "stream",
     "text": [
      "hello again\n"
     ]
    }
   ],
   "source": [
    "def greet(): #function initialozation\n",
    "    print(\"hello user welcome to our functions notebook\")\n",
    "    print(\"see you in another class\")\n",
    "\n",
    "print(\"hello again\")\n",
    "\n",
    "\n",
    "\n",
    "\n"
   ]
  },
  {
   "cell_type": "code",
   "execution_count": 17,
   "id": "5540f25d",
   "metadata": {},
   "outputs": [
    {
     "name": "stdout",
     "output_type": "stream",
     "text": [
      "hello user welcome to our functions notebook\n",
      "see you in another class\n"
     ]
    }
   ],
   "source": [
    " #function calling\n",
    " greet()"
   ]
  },
  {
   "cell_type": "code",
   "execution_count": 18,
   "id": "aa2914ed",
   "metadata": {},
   "outputs": [
    {
     "name": "stdout",
     "output_type": "stream",
     "text": [
      "30\n"
     ]
    }
   ],
   "source": [
    "def add(x,y):  #parameterized function\n",
    "    y=x+y\n",
    "    return y # return function\n",
    "\n",
    "a=10\n",
    "b=20\n",
    "\n",
    "sum=add(a,b)\n",
    "print(sum)"
   ]
  },
  {
   "cell_type": "code",
   "execution_count": 19,
   "id": "244e23a4",
   "metadata": {},
   "outputs": [
    {
     "data": {
      "text/plain": [
       "31.25"
      ]
     },
     "execution_count": 19,
     "metadata": {},
     "output_type": "execute_result"
    }
   ],
   "source": [
    "def average(a,b,c,d):\n",
    "    x=(a+b+c+d)/4\n",
    "    return x\n",
    "\n",
    "\n",
    "average(12,34,56,23)\n"
   ]
  },
  {
   "cell_type": "code",
   "execution_count": 20,
   "id": "96b785b4",
   "metadata": {},
   "outputs": [
    {
     "name": "stdout",
     "output_type": "stream",
     "text": [
      "107.75\n",
      "111.25\n",
      "None\n"
     ]
    }
   ],
   "source": [
    "#non  return function\n",
    "def average(a,b,c,d):\n",
    "    x=a+b+c+d/4\n",
    "    print(x)\n",
    "\n",
    "\n",
    "average(12,34,56,23)\n",
    "AV=average(50,20,30,45)\n",
    "print(AV)\n"
   ]
  },
  {
   "cell_type": "code",
   "execution_count": null,
   "id": "7f2db286",
   "metadata": {},
   "outputs": [
    {
     "data": {
      "text/plain": [
       "0.72"
      ]
     },
     "execution_count": 23,
     "metadata": {},
     "output_type": "execute_result"
    }
   ],
   "source": [
    "#default parameterized function\n",
    "def fun (p,r,t=2):\n",
    "    x=p*r*t/100\n",
    "    return x\n",
    "\n",
    "fun(12,3)"
   ]
  },
  {
   "cell_type": "code",
   "execution_count": 26,
   "id": "b49f28a9",
   "metadata": {},
   "outputs": [
    {
     "name": "stdout",
     "output_type": "stream",
     "text": [
      "i love USA\n",
      "i love UK\n",
      "i love India\n"
     ]
    }
   ],
   "source": [
    "def mycountry(country=\"India\"):\n",
    "    print(f'i love {country}')\n",
    "\n",
    "mycountry(\"USA\")\n",
    "mycountry(\"UK\")\n",
    "mycountry()"
   ]
  },
  {
   "cell_type": "code",
   "execution_count": 29,
   "id": "7bbc1c47",
   "metadata": {},
   "outputs": [
    {
     "data": {
      "text/plain": [
       "25"
      ]
     },
     "execution_count": 29,
     "metadata": {},
     "output_type": "execute_result"
    }
   ],
   "source": [
    "def square(a):\n",
    "    return a**2\n",
    "square(5)"
   ]
  },
  {
   "cell_type": "code",
   "execution_count": 41,
   "id": "530fbbe5",
   "metadata": {},
   "outputs": [
    {
     "name": "stdout",
     "output_type": "stream",
     "text": [
      "false\n"
     ]
    }
   ],
   "source": [
    "def even(a):\n",
    "    if a%2==0:\n",
    "        print(\"true\")\n",
    "    else:\n",
    "        print(\"false\")\n",
    "\n",
    "even(19)"
   ]
  },
  {
   "cell_type": "code",
   "execution_count": 44,
   "id": "19e311c9",
   "metadata": {},
   "outputs": [
    {
     "name": "stdout",
     "output_type": "stream",
     "text": [
      "odd number\n",
      "None\n"
     ]
    }
   ],
   "source": [
    "even = lambda n :print(\"even number\") if n%2==0 else print(\"odd number\")\n",
    "print(even(5))"
   ]
  },
  {
   "cell_type": "code",
   "execution_count": 28,
   "id": "cb6a0c54",
   "metadata": {},
   "outputs": [
    {
     "name": "stdout",
     "output_type": "stream",
     "text": [
      "25\n"
     ]
    }
   ],
   "source": [
    "square= lambda a:a**2\n",
    "\n",
    "print(square(5))"
   ]
  },
  {
   "cell_type": "code",
   "execution_count": null,
   "id": "aa8fb6c9",
   "metadata": {},
   "outputs": [
    {
     "name": "stdout",
     "output_type": "stream",
     "text": [
      "not  prime number\n",
      "not  prime number\n",
      "not  prime number\n",
      "not  prime number\n"
     ]
    }
   ],
   "source": [
    "def prime():\n",
    "     n=int(input(\"enter a number\"))\n",
    "     if n<2:\n",
    "        print(\"select anothother numberv  \")\n",
    "     else :\n",
    "        for i in range(2,n):\n",
    "            if n%2==0:\n",
    "                print(\"element is  a prime number\")\n",
    "                break\n",
    "            else:\n",
    "                print(\"not  prime number\")\n",
    "\n",
    "prime()"
   ]
  },
  {
   "cell_type": "code",
   "execution_count": 5,
   "id": "38ce3950",
   "metadata": {},
   "outputs": [
    {
     "name": "stdout",
     "output_type": "stream",
     "text": [
      "[25, 36, 4, 16]\n"
     ]
    }
   ],
   "source": [
    "lst=[5,6,2,4]\n",
    "new_lst=[]\n",
    "for i in lst:\n",
    "    new_lst.append(i**2 )\n",
    "print(new_lst)"
   ]
  },
  {
   "cell_type": "code",
   "execution_count": 7,
   "id": "a34efda2",
   "metadata": {},
   "outputs": [
    {
     "name": "stdout",
     "output_type": "stream",
     "text": [
      "[4, 8, 8, 6, 4]\n"
     ]
    }
   ],
   "source": [
    "lst=[5,4,8,1,5,1,8,3,6,4,7]\n",
    "new_lst=[]\n",
    "for i in lst:\n",
    "    if i%2 ==0:\n",
    "        new_lst.append(i)\n",
    "print(new_lst)"
   ]
  },
  {
   "cell_type": "code",
   "execution_count": null,
   "id": "8dd5877b",
   "metadata": {},
   "outputs": [
    {
     "name": "stdout",
     "output_type": "stream",
     "text": [
      "not a leap year\n"
     ]
    }
   ],
   "source": [
    "def leap():\n",
    "    year= int(input(\"enter a year\"))\n",
    "    i=1\n",
    "    while i==1:\n",
    "        if(year %400==0)or (year %100!=0 and year %4==0):\n",
    "            print(\"ita a leap year\")\n",
    "    else:\n",
    "        print(\"not a leap year\")\n",
    "        i=0\n",
    "\n",
    "leap()"
   ]
  },
  {
   "cell_type": "code",
   "execution_count": 58,
   "id": "978666b9",
   "metadata": {},
   "outputs": [],
   "source": [
    "def calculate():\n",
    "    b=10*200000/100\n",
    "    print(b)"
   ]
  },
  {
   "cell_type": "code",
   "execution_count": null,
   "id": "90435c62",
   "metadata": {},
   "outputs": [],
   "source": [
    "list1=[1,2,3,4,5]\n",
    "list2=[]\n",
    "\n",
    "s=list1[0]\n",
    "for i in rangelist1"
   ]
  }
 ],
 "metadata": {
  "kernelspec": {
   "display_name": "base",
   "language": "python",
   "name": "python3"
  },
  "language_info": {
   "codemirror_mode": {
    "name": "ipython",
    "version": 3
   },
   "file_extension": ".py",
   "mimetype": "text/x-python",
   "name": "python",
   "nbconvert_exporter": "python",
   "pygments_lexer": "ipython3",
   "version": "3.12.4"
  }
 },
 "nbformat": 4,
 "nbformat_minor": 5
}
