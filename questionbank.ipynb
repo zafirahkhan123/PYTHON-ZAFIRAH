{
 "cells": [
  {
   "cell_type": "code",
   "execution_count": null,
   "id": "746e7348",
   "metadata": {},
   "outputs": [
    {
     "name": "stdout",
     "output_type": "stream",
     "text": [
      "1\n",
      "2\n",
      "3\n",
      "4\n",
      "5\n",
      "6\n",
      "7\n",
      "8\n",
      "9\n",
      "10\n"
     ]
    }
   ],
   "source": [
    "for i in range(1,11):\n",
    "    print(i)"
   ]
  },
  {
   "cell_type": "code",
   "execution_count": null,
   "id": "dc2da156",
   "metadata": {},
   "outputs": [],
   "source": []
  },
  {
   "cell_type": "code",
   "execution_count": 3,
   "id": "cd78b53b",
   "metadata": {},
   "outputs": [
    {
     "name": "stdout",
     "output_type": "stream",
     "text": [
      "2\n",
      "4\n",
      "6\n",
      "8\n",
      "10\n",
      "12\n",
      "14\n",
      "16\n",
      "18\n",
      "20\n"
     ]
    }
   ],
   "source": [
    "i=2\n",
    "j=1\n",
    "while (j<=10):\n",
    "    print(i*j)\n",
    "    j=j+1\n",
    "\n"
   ]
  },
  {
   "cell_type": "code",
   "execution_count": 6,
   "id": "e13f2de9",
   "metadata": {},
   "outputs": [
    {
     "name": "stdout",
     "output_type": "stream",
     "text": [
      "sum of even number is 2561\n"
     ]
    }
   ],
   "source": [
    "\n",
    "for i in range(1,101):\n",
    "    if i%2==0:\n",
    "        j=j+i\n",
    "print(f\"sum of even number is {j}\")"
   ]
  },
  {
   "cell_type": "code",
   "execution_count": 10,
   "id": "aee8b916",
   "metadata": {},
   "outputs": [
    {
     "name": "stdout",
     "output_type": "stream",
     "text": [
      "not a leap year\n"
     ]
    }
   ],
   "source": [
    "year= int(input(\"enter a year\"))\n",
    "i=1\n",
    "while i==1:\n",
    "    if(year %400==0)or (year %100!=0 and year %4==0):\n",
    "        print(\"ita a leap year\")\n",
    "    else:\n",
    "        print(\"not a leap year\")\n",
    "        i=0"
   ]
  },
  {
   "cell_type": "code",
   "execution_count": 17,
   "id": "6311b38c",
   "metadata": {},
   "outputs": [
    {
     "name": "stdout",
     "output_type": "stream",
     "text": [
      "2\n"
     ]
    }
   ],
   "source": [
    "var=input(\"enter a word\")\n",
    "count=0\n",
    "vowels=\"aeiouAEIOU\"\n",
    "for ch in var:\n",
    "    if ch in vowels:\n",
    "        count=count+1\n",
    "print(count)"
   ]
  },
  {
   "cell_type": "code",
   "execution_count": null,
   "id": "954f219b",
   "metadata": {},
   "outputs": [],
   "source": []
  },
  {
   "cell_type": "code",
   "execution_count": 22,
   "id": "27c735c6",
   "metadata": {},
   "outputs": [
    {
     "name": "stdout",
     "output_type": "stream",
     "text": [
      "[4, 5, 5, 6]\n"
     ]
    }
   ],
   "source": [
    "num=int(input(\"enter the number of elements\"))\n",
    "list1=[]\n",
    "for i in range(num):\n",
    "    l=int(input(\"enter the element\"))\n",
    "    list1.append(l)\n",
    "print(list1)\n",
    "\n"
   ]
  },
  {
   "cell_type": "code",
   "execution_count": 23,
   "id": "a249d29c",
   "metadata": {},
   "outputs": [
    {
     "name": "stdout",
     "output_type": "stream",
     "text": [
      "element is present\n"
     ]
    }
   ],
   "source": [
    "list1=[1,2,3,4,5,6]\n",
    "num=int(input(\"enter a number\"))\n",
    "if num in list1:\n",
    "    print(\"element is present\")\n",
    "else:\n",
    "    print(\"not present\")"
   ]
  },
  {
   "cell_type": "code",
   "execution_count": 28,
   "id": "4d4a06db",
   "metadata": {},
   "outputs": [
    {
     "name": "stdout",
     "output_type": "stream",
     "text": [
      "['banana', 'orange', 'zafirah']\n"
     ]
    }
   ],
   "source": [
    "lst=[\"zafirah\",\"banana\",\"orange\"]\n",
    "lst.sort()\n",
    "print (lst)"
   ]
  },
  {
   "cell_type": "code",
   "execution_count": 43,
   "id": "d8944f6c",
   "metadata": {},
   "outputs": [
    {
     "name": "stdout",
     "output_type": "stream",
     "text": [
      "6\n"
     ]
    }
   ],
   "source": [
    "num=int(input(\"enter the number of elements\"))\n",
    "list1=[]\n",
    "for i in range(num):\n",
    "    l=int(input(\"enter the element\"))\n",
    "    list1.append(l)\n",
    "sum=0\n",
    "for num in list1:\n",
    "    if num %2==0:\n",
    "        sum=sum+ num\n",
    "print(sum)\n",
    "\n",
    "\n"
   ]
  },
  {
   "cell_type": "code",
   "execution_count": 38,
   "id": "1ed2f0da",
   "metadata": {},
   "outputs": [
    {
     "name": "stdout",
     "output_type": "stream",
     "text": [
      "['banana', 'apple', 'orange', 'guvava']\n"
     ]
    }
   ],
   "source": [
    "a=[\"banana\",\"apple\"]\n",
    "b=[\"orange\",\"guvava\"]\n",
    "lst=a+b\n",
    "print(lst)"
   ]
  },
  {
   "cell_type": "code",
   "execution_count": 5,
   "id": "c7e2520f",
   "metadata": {},
   "outputs": [
    {
     "name": "stdout",
     "output_type": "stream",
     "text": [
      "2element is not a prime number\n"
     ]
    }
   ],
   "source": [
    "n=3\n",
    "if n<2:\n",
    "    print(\"select anothother number\")\n",
    "else :\n",
    "    for i in range(2,n):\n",
    "        if i%2==0:\n",
    "            print(f\"{i}element is not a prime number\")\n",
    "            break\n",
    "        else:\n",
    "            print(f\"{i}its a prime number\")"
   ]
  },
  {
   "cell_type": "code",
   "execution_count": null,
   "id": "2cecdb05",
   "metadata": {},
   "outputs": [],
   "source": [
    "num=int(input(\"enter a digit\"))\n"
   ]
  },
  {
   "cell_type": "code",
   "execution_count": null,
   "id": "0e5849d7",
   "metadata": {},
   "outputs": [],
   "source": []
  },
  {
   "cell_type": "code",
   "execution_count": 51,
   "id": "42c1d150",
   "metadata": {},
   "outputs": [
    {
     "ename": "SyntaxError",
     "evalue": "unterminated f-string literal (detected at line 3) (3407105185.py, line 3)",
     "output_type": "error",
     "traceback": [
      "  \u001b[36mCell\u001b[39m\u001b[36m \u001b[39m\u001b[32mIn[51]\u001b[39m\u001b[32m, line 3\u001b[39m\n\u001b[31m    \u001b[39m\u001b[31mprint(f\"{i} * {j})\u001b[39m\n          ^\n\u001b[31mSyntaxError\u001b[39m\u001b[31m:\u001b[39m unterminated f-string literal (detected at line 3)\n"
     ]
    }
   ],
   "source": [
    "for i in range (1,6):\n",
    "    for j in range(i,10):\n",
    "        print(f\"{i} * {j})"
   ]
  },
  {
   "cell_type": "code",
   "execution_count": null,
   "id": "6816f30f",
   "metadata": {},
   "outputs": [
    {
     "name": "stdout",
     "output_type": "stream",
     "text": [
      "['zafirah', 'is', 'right']\n",
      "right is zafirah "
     ]
    }
   ],
   "source": [
    "#loop to reverse a sentences\n",
    "sentence=input(\"enter a sentence\")\n",
    "word=sentence.split()\n",
    "print(word)\n",
    "\n",
    "i=len(word)-1\n",
    "\n",
    "while i>=0:\n",
    "    print(word[i], end=\" \")\n",
    "    i=i-1"
   ]
  },
  {
   "cell_type": "code",
   "execution_count": 9,
   "id": "0d0a9147",
   "metadata": {},
   "outputs": [
    {
     "name": "stdout",
     "output_type": "stream",
     "text": [
      "Largest number in array: 34\n",
      "Smallest number in array: 2\n"
     ]
    }
   ],
   "source": [
    "# Loops to find the largest and smallest in array\n",
    "arr = [10, 20, 34, 32, 21, 9, 2, 19]\n",
    "\n",
    "largest = arr[0]\n",
    "smallest = arr[0]\n",
    "\n",
    "for num in arr:\n",
    "    if num > largest:\n",
    "        largest = num\n",
    "    if num < smallest:\n",
    "        smallest = num\n",
    "\n",
    "print(\"Largest number in array:\", largest)\n",
    "print(\"Smallest number in array:\", smallest)\n"
   ]
  },
  {
   "cell_type": "code",
   "execution_count": 10,
   "id": "c0e05cf2",
   "metadata": {},
   "outputs": [
    {
     "name": "stdout",
     "output_type": "stream",
     "text": [
      "factorial of a number is 120\n"
     ]
    }
   ],
   "source": [
    "#factorial number\n",
    "\n",
    "number=int(input(\"enter a number\"))\n",
    "\n",
    "factorial=1\n",
    "for i in range (1, number+1):\n",
    "    factorial=factorial*i\n",
    "\n",
    "\n",
    "print(\"factorial of a number is\",factorial)\n"
   ]
  },
  {
   "cell_type": "code",
   "execution_count": 11,
   "id": "4d195cc5",
   "metadata": {},
   "outputs": [
    {
     "name": "stdout",
     "output_type": "stream",
     "text": [
      "1*1=1\n",
      "1*2=2\n",
      "1*3=3\n",
      "1*4=4\n",
      "1*5=5\n",
      "1*6=6\n",
      "1*7=7\n",
      "1*8=8\n",
      "1*9=9\n",
      "1*10=10\n",
      "2*1=2\n",
      "2*2=4\n",
      "2*3=6\n",
      "2*4=8\n",
      "2*5=10\n",
      "2*6=12\n",
      "2*7=14\n",
      "2*8=16\n",
      "2*9=18\n",
      "2*10=20\n",
      "3*1=3\n",
      "3*2=6\n",
      "3*3=9\n",
      "3*4=12\n",
      "3*5=15\n",
      "3*6=18\n",
      "3*7=21\n",
      "3*8=24\n",
      "3*9=27\n",
      "3*10=30\n",
      "4*1=4\n",
      "4*2=8\n",
      "4*3=12\n",
      "4*4=16\n",
      "4*5=20\n",
      "4*6=24\n",
      "4*7=28\n",
      "4*8=32\n",
      "4*9=36\n",
      "4*10=40\n",
      "5*1=5\n",
      "5*2=10\n",
      "5*3=15\n",
      "5*4=20\n",
      "5*5=25\n",
      "5*6=30\n",
      "5*7=35\n",
      "5*8=40\n",
      "5*9=45\n",
      "5*10=50\n"
     ]
    }
   ],
   "source": [
    "# pringt the tables of 1,6\n",
    "\n",
    "for i in range(1,6):\n",
    "    for j in range(1,11):\n",
    "        print(f'{i}*{j}={i*j}')"
   ]
  },
  {
   "cell_type": "code",
   "execution_count": 13,
   "id": "e01719ce",
   "metadata": {},
   "outputs": [
    {
     "name": "stdout",
     "output_type": "stream",
     "text": [
      "4936\n"
     ]
    }
   ],
   "source": [
    "#sum of digit \n",
    "digit=input(\"enter a number\")\n",
    "\n",
    "sum_digit=0\n",
    "for i in digit:\n",
    "\n",
    "    sum_digit=sum_digit+int(digit)\n",
    "\n",
    "print(sum_digit)"
   ]
  },
  {
   "cell_type": "code",
   "execution_count": 16,
   "id": "e89ae872",
   "metadata": {},
   "outputs": [
    {
     "name": "stdout",
     "output_type": "stream",
     "text": [
      "Smallest number = 2\n"
     ]
    }
   ],
   "source": [
    "# Smallest number in an array using while loop\n",
    "arr = [2, 43, 56, 34, 12, 9, 10]\n",
    "\n",
    "smallest = arr[0]\n",
    "i = 1\n",
    "\n",
    "while i < len(arr):\n",
    "    if arr[i] < smallest:\n",
    "        smallest = arr[i]\n",
    "    i = i + 1\n",
    "\n",
    "print(\"Smallest number =\", smallest)\n"
   ]
  },
  {
   "cell_type": "code",
   "execution_count": 3,
   "id": "68ba02eb",
   "metadata": {},
   "outputs": [
    {
     "name": "stdout",
     "output_type": "stream",
     "text": [
      "35.166666666666664\n"
     ]
    }
   ],
   "source": [
    "# avaraege using for loop\n",
    "list1=[12,34,65,1,9,90]\n",
    "total=0\n",
    "\n",
    "for num in list1:\n",
    "    total=total+num\n",
    "\n",
    "\n",
    "average=total/len(list1)\n",
    "\n",
    "print(average)"
   ]
  },
  {
   "cell_type": "code",
   "execution_count": 7,
   "id": "23800e12",
   "metadata": {},
   "outputs": [
    {
     "name": "stdout",
     "output_type": "stream",
     "text": [
      "factorial of a number 46656\n"
     ]
    }
   ],
   "source": [
    "#factorial of a number\n",
    "\n",
    "num2=int(input(\"enter a number\"))\n",
    "\n",
    "factorial=1\n",
    "\n",
    "for i in range(1,num2+1):\n",
    "    factorial=num2*factorial\n",
    "\n",
    "print(\"factorial of a number\",factorial)"
   ]
  },
  {
   "cell_type": "markdown",
   "id": "118f7f88",
   "metadata": {},
   "source": []
  }
 ],
 "metadata": {
  "kernelspec": {
   "display_name": "base",
   "language": "python",
   "name": "python3"
  },
  "language_info": {
   "codemirror_mode": {
    "name": "ipython",
    "version": 3
   },
   "file_extension": ".py",
   "mimetype": "text/x-python",
   "name": "python",
   "nbconvert_exporter": "python",
   "pygments_lexer": "ipython3",
   "version": "3.12.4"
  }
 },
 "nbformat": 4,
 "nbformat_minor": 5
}
