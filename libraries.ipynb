{
 "cells": [
  {
   "cell_type": "code",
   "execution_count": 1,
   "id": "9dfface9",
   "metadata": {},
   "outputs": [],
   "source": [
    "import math"
   ]
  },
  {
   "cell_type": "code",
   "execution_count": 6,
   "id": "b1f74733",
   "metadata": {},
   "outputs": [
    {
     "name": "stdout",
     "output_type": "stream",
     "text": [
      "4.0\n",
      "34\n",
      "0.5290826861200238\n",
      "1\n"
     ]
    }
   ],
   "source": [
    "print(math.sqrt(16))\n",
    "print(math.lcm(34))\n",
    "print(math.sin(34))\n",
    "print(math.gcd(43,56))\n"
   ]
  },
  {
   "cell_type": "code",
   "execution_count": 2,
   "id": "dd31e4b3",
   "metadata": {},
   "outputs": [],
   "source": [
    "from random import random,randint,shuffle,choice"
   ]
  },
  {
   "cell_type": "code",
   "execution_count": 3,
   "id": "1b2a29f0",
   "metadata": {},
   "outputs": [
    {
     "name": "stdout",
     "output_type": "stream",
     "text": [
      "get a random number between 0 and 1 0.5433595542181784\n",
      "get a random integer between 1 and 10 9\n",
      "get a random chice from the list cherry\n",
      "['zafurah', 'Charlie', 'david', 'Bob']\n"
     ]
    }
   ],
   "source": [
    "\n",
    "print(\"get a random number between 0 and 1\",random())\n",
    "\n",
    "print (\"get a random integer between 1 and 10\",randint(1,10))\n",
    "print (\"get a random chice from the list\",choice([\"apple\",\"banana\",\"cherry\"]))\n",
    "names=[\"zafurah\",\"Charlie\",\"david\",'Bob']\n",
    "shuffle(names)\n",
    "print(names)"
   ]
  },
  {
   "cell_type": "code",
   "execution_count": null,
   "id": "788fb4fe",
   "metadata": {},
   "outputs": [],
   "source": [
    "from datetime import datetime as dt     #alias"
   ]
  },
  {
   "cell_type": "code",
   "execution_count": 5,
   "id": "da774d6d",
   "metadata": {},
   "outputs": [
    {
     "name": "stdout",
     "output_type": "stream",
     "text": [
      "currennt date and time 2025-08-30 10:52:12.609009\n"
     ]
    }
   ],
   "source": [
    "print(\"currennt date and time\",dt.now())"
   ]
  },
  {
   "cell_type": "code",
   "execution_count": 8,
   "id": "9a0b67b2",
   "metadata": {},
   "outputs": [
    {
     "name": "stdout",
     "output_type": "stream",
     "text": [
      "currebnt date 2025-08-30\n",
      "current time 10:55:46.561146\n",
      "current month  8\n",
      "current month  2025\n"
     ]
    }
   ],
   "source": [
    "print(\"currebnt date\",dt.now().date())\n",
    "print(\"current time\",dt.now().time())\n",
    "print(\"current month \",dt.now().month)\n",
    "print(\"current month \",dt.now().year)"
   ]
  },
  {
   "cell_type": "code",
   "execution_count": 10,
   "id": "d5c369dc",
   "metadata": {},
   "outputs": [
    {
     "name": "stdout",
     "output_type": "stream",
     "text": [
      "currtnt date Sat\n"
     ]
    }
   ],
   "source": [
    "print(\"currtnt date\",dt.now().strftime(\"%a\"))"
   ]
  },
  {
   "cell_type": "code",
   "execution_count": 11,
   "id": "0982170f",
   "metadata": {},
   "outputs": [
    {
     "name": "stdout",
     "output_type": "stream",
     "text": [
      "currtnt date Saturday\n"
     ]
    }
   ],
   "source": [
    "print(\"currtnt date\",dt.now().strftime(\"%A\"))"
   ]
  },
  {
   "cell_type": "code",
   "execution_count": 13,
   "id": "8a6cefff",
   "metadata": {},
   "outputs": [
    {
     "name": "stdout",
     "output_type": "stream",
     "text": [
      "currtnt date August\n"
     ]
    }
   ],
   "source": [
    "print(\"currtnt date\",dt.now().strftime(\"%B\"))"
   ]
  },
  {
   "cell_type": "code",
   "execution_count": 14,
   "id": "5284406f",
   "metadata": {},
   "outputs": [
    {
     "name": "stdout",
     "output_type": "stream",
     "text": [
      "currtnt date Aug\n"
     ]
    }
   ],
   "source": [
    "print(\"currtnt date\",dt.now().strftime(\"%b\"))"
   ]
  },
  {
   "cell_type": "code",
   "execution_count": 12,
   "id": "dd2736d7",
   "metadata": {},
   "outputs": [
    {
     "name": "stdout",
     "output_type": "stream",
     "text": [
      "current time 11:04:31\n"
     ]
    }
   ],
   "source": [
    "print(\"current time\",dt.now().strftime('%H:%M:%S'))"
   ]
  },
  {
   "cell_type": "code",
   "execution_count": null,
   "id": "1da6dedd",
   "metadata": {},
   "outputs": [],
   "source": []
  }
 ],
 "metadata": {
  "kernelspec": {
   "display_name": "base",
   "language": "python",
   "name": "python3"
  },
  "language_info": {
   "codemirror_mode": {
    "name": "ipython",
    "version": 3
   },
   "file_extension": ".py",
   "mimetype": "text/x-python",
   "name": "python",
   "nbconvert_exporter": "python",
   "pygments_lexer": "ipython3",
   "version": "3.12.4"
  }
 },
 "nbformat": 4,
 "nbformat_minor": 5
}
