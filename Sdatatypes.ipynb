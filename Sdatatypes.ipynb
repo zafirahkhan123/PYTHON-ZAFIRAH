{
 "cells": [
  {
   "cell_type": "code",
   "execution_count": 6,
   "id": "9b05808f",
   "metadata": {},
   "outputs": [
    {
     "name": "stdout",
     "output_type": "stream",
     "text": [
      "['Zafirah', 'Anoosha', 'Faaz', 'Fauzia']\n",
      "['Dolly', 'Anoosha', 'Faaz', 'Fauzia']\n"
     ]
    }
   ],
   "source": [
    "#Special Datatypes\n",
    "#LIST\n",
    "\n",
    "\n",
    "name=[\"Zafirah\",\"Anoosha\",\"Faaz\",\"Fauzia\"] #ordered collection\n",
    " #mutable\n",
    " #hetrogenous\n",
    " #Duplicates allowed\n",
    "print (name)\n",
    "name[0]\n",
    "name[0]=\"Dolly\"\n",
    "print(name)"
   ]
  },
  {
   "cell_type": "code",
   "execution_count": null,
   "id": "4462f056",
   "metadata": {},
   "outputs": [
    {
     "name": "stdout",
     "output_type": "stream",
     "text": [
      "(44.5, 66.7)\n"
     ]
    },
    {
     "ename": "TypeError",
     "evalue": "'tuple' object does not support item assignment",
     "output_type": "error",
     "traceback": [
      "\u001b[31m---------------------------------------------------------------------------\u001b[39m",
      "\u001b[31mTypeError\u001b[39m                                 Traceback (most recent call last)",
      "\u001b[36mCell\u001b[39m\u001b[36m \u001b[39m\u001b[32mIn[7]\u001b[39m\u001b[32m, line 7\u001b[39m\n\u001b[32m      5\u001b[39m coordinates=(\u001b[32m44.5\u001b[39m,\u001b[32m66.7\u001b[39m)\n\u001b[32m      6\u001b[39m \u001b[38;5;28mprint\u001b[39m(coordinates)\n\u001b[32m----> \u001b[39m\u001b[32m7\u001b[39m \u001b[43mcoordinates\u001b[49m\u001b[43m[\u001b[49m\u001b[32;43m0\u001b[39;49m\u001b[43m]\u001b[49m=\u001b[32m56.6\u001b[39m\n",
      "\u001b[31mTypeError\u001b[39m: 'tuple' object does not support item assignment"
     ]
    }
   ],
   "source": [
    "# TUPLES\n",
    "#name=(\"Zafirah\",\"Anoosha\",\"Faaz\",\"Fauzia\")\n",
    "#processing is faster as compared to list aS IT IS IMMUTABLE\n",
    "\n",
    "coordinates=(44.5,66.7)\n",
    "print(coordinates)\n",
    "#coordinates[0]=56.6\n"
   ]
  },
  {
   "cell_type": "code",
   "execution_count": null,
   "id": "144c5c14",
   "metadata": {},
   "outputs": [
    {
     "name": "stdout",
     "output_type": "stream",
     "text": [
      "{1, 2, 3, 4, 5, 6, 7}\n"
     ]
    }
   ],
   "source": [
    "#SETS\n",
    "#duplpicacy not allowed\n",
    "num={1,2,3,2,4,5,6,5,7}\n",
    "print(num) # IT will not print the duplicate items\n"
   ]
  },
  {
   "cell_type": "code",
   "execution_count": null,
   "id": "162dddfb",
   "metadata": {},
   "outputs": [
    {
     "name": "stdout",
     "output_type": "stream",
     "text": [
      "1\n",
      "2\n",
      "3\n",
      "4\n",
      "5\n",
      "6\n",
      "7\n"
     ]
    }
   ],
   "source": [
    "for i in num :\n",
    "    print(i)"
   ]
  },
  {
   "cell_type": "code",
   "execution_count": null,
   "id": "974a9fe2",
   "metadata": {},
   "outputs": [
    {
     "name": "stdout",
     "output_type": "stream",
     "text": [
      "{'orange', 'mango', 'grapes', 'apple', 'cherry'}\n",
      "orange\n",
      "Guvava\n",
      "mango\n",
      "grapes\n",
      "apple\n",
      "cherry\n"
     ]
    }
   ],
   "source": [
    "fruits={\"orange\",\"mango\",\"grapes\",\"cherry\",\"apple\"}\n",
    "print(fruits)\n",
    "fruits.add(\"Guvava\") #To add items in Sets\n",
    "for i in fruits:\n",
    "    print(i)\n"
   ]
  },
  {
   "cell_type": "code",
   "execution_count": 21,
   "id": "30815579",
   "metadata": {},
   "outputs": [
    {
     "name": "stdout",
     "output_type": "stream",
     "text": [
      "{'Brand': 'Land Rover', 'Model': 'Defender', 'year': 2025}\n",
      "Land Rover\n",
      "Brand : Land Rover\n",
      "Model : Defender\n",
      "year : 2025\n"
     ]
    }
   ],
   "source": [
    "#Dictionaries\n",
    "Car={\"Brand\":\"Land Rover\",\n",
    "     \"Model\":\"Defender\",\n",
    "     \"year\":2025}\n",
    "print(Car)\n",
    "print(Car[\"Brand\"])\n",
    "for key,value in Car.items():\n",
    "    print(key,\":\",value )"
   ]
  }
 ],
 "metadata": {
  "kernelspec": {
   "display_name": "base",
   "language": "python",
   "name": "python3"
  },
  "language_info": {
   "codemirror_mode": {
    "name": "ipython",
    "version": 3
   },
   "file_extension": ".py",
   "mimetype": "text/x-python",
   "name": "python",
   "nbconvert_exporter": "python",
   "pygments_lexer": "ipython3",
   "version": "3.12.4"
  }
 },
 "nbformat": 4,
 "nbformat_minor": 5
}
