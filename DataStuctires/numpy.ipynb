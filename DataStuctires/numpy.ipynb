{
 "cells": [
  {
   "cell_type": "code",
   "execution_count": null,
   "id": "4b089d9c",
   "metadata": {},
   "outputs": [],
   "source": [
    "import numpy as np # numpy is used to mannupukate data in array                         #Data Analytics\n",
    "# list are hetrogenous \n",
    "# array hare homogenous"
   ]
  },
  {
   "cell_type": "code",
   "execution_count": null,
   "id": "466ebb31",
   "metadata": {},
   "outputs": [
    {
     "name": "stdout",
     "output_type": "stream",
     "text": [
      "[1 2 3 4 5]\n"
     ]
    }
   ],
   "source": [
    "a=np.array([1,2,3,4,5]) # this is how we create array    #1d array\n",
    "print (a)"
   ]
  },
  {
   "cell_type": "code",
   "execution_count": null,
   "id": "07b2b934",
   "metadata": {},
   "outputs": [
    {
     "data": {
      "text/plain": [
       "numpy.ndarray"
      ]
     },
     "execution_count": 5,
     "metadata": {},
     "output_type": "execute_result"
    }
   ],
   "source": [
    "type(a)"
   ]
  },
  {
   "cell_type": "code",
   "execution_count": null,
   "id": "e739e508",
   "metadata": {},
   "outputs": [
    {
     "name": "stdout",
     "output_type": "stream",
     "text": [
      "[[1 2 3]\n",
      " [4 5 6]]\n"
     ]
    }
   ],
   "source": [
    "#2d array\n",
    "a2=np.array([[1,2,3],[4,5,6]])\n",
    "print(a2)"
   ]
  },
  {
   "cell_type": "code",
   "execution_count": null,
   "id": "9cfa0a47",
   "metadata": {},
   "outputs": [
    {
     "name": "stdout",
     "output_type": "stream",
     "text": [
      "[[[1 2 3]\n",
      "  [3 5 6]]\n",
      "\n",
      " [[7 8 9]\n",
      "  [5 8 9]]]\n"
     ]
    }
   ],
   "source": [
    "#3d array\n",
    "a3=np.array([[[1,2,3],[3,5,6]],[[7,8,9],[5,8,9]]])\n",
    "print(a3)\n"
   ]
  },
  {
   "cell_type": "code",
   "execution_count": null,
   "id": "7aba0fcb",
   "metadata": {},
   "outputs": [
    {
     "name": "stdout",
     "output_type": "stream",
     "text": [
      "(2, 2, 3)\n",
      "3\n",
      "int32\n"
     ]
    }
   ],
   "source": [
    "print (a3.shape)#number of rows and coukms\n",
    "\n",
    "print(a3.ndim)# number of dimensions\n",
    "print(a3.dtype)# data type of elementsprint"
   ]
  },
  {
   "cell_type": "code",
   "execution_count": null,
   "id": "2b6c8346",
   "metadata": {},
   "outputs": [
    {
     "name": "stdout",
     "output_type": "stream",
     "text": [
      "(2, 3)\n",
      "2\n",
      "int32\n"
     ]
    }
   ],
   "source": [
    "print (a2.shape)#number of rows and coukms\n",
    "\n",
    "print(a2.ndim)# number of dimensions\n",
    "print(a2.dtype)# data type of elementsprint"
   ]
  },
  {
   "cell_type": "code",
   "execution_count": null,
   "id": "c204dd6c",
   "metadata": {},
   "outputs": [
    {
     "data": {
      "text/plain": [
       "array([ 2,  4,  6,  8, 10, 12, 14, 16, 18])"
      ]
     },
     "execution_count": 20,
     "metadata": {},
     "output_type": "execute_result"
    }
   ],
   "source": [
    "np.arange(10)\n",
    "np.arange(2,21)\n",
    "np.arange(2,20,2)"
   ]
  },
  {
   "cell_type": "code",
   "execution_count": null,
   "id": "785c8062",
   "metadata": {},
   "outputs": [
    {
     "name": "stdout",
     "output_type": "stream",
     "text": [
      "[[ 7  8  9]\n",
      " [10 11 12]\n",
      " [13 14 15]]\n",
      "[[ 7  8  9]\n",
      " [10 11 12]\n",
      " [13 14 15]]\n"
     ]
    }
   ],
   "source": [
    "x=np.array([[3,4,5],\n",
    "            [6,7,8],\n",
    "            [4,5,6]])\n",
    "\n",
    "y=x=np.array([[7,8,9],\n",
    "              [10,11,12],\n",
    "              [13,14,15]])\n",
    "print(x)\n",
    "print(y)"
   ]
  },
  {
   "cell_type": "code",
   "execution_count": null,
   "id": "70179e90",
   "metadata": {},
   "outputs": [
    {
     "name": "stdout",
     "output_type": "stream",
     "text": [
      "[[14 16 18]\n",
      " [20 22 24]\n",
      " [26 28 30]]\n"
     ]
    }
   ],
   "source": [
    "z=x+y\n",
    "print(z)"
   ]
  },
  {
   "cell_type": "code",
   "execution_count": null,
   "id": "0350aa0f",
   "metadata": {},
   "outputs": [
    {
     "name": "stdout",
     "output_type": "stream",
     "text": [
      "[[ 49  64  81]\n",
      " [100 121 144]\n",
      " [169 196 225]]\n"
     ]
    }
   ],
   "source": [
    "print(x*y)"
   ]
  },
  {
   "cell_type": "code",
   "execution_count": null,
   "id": "66f8892b",
   "metadata": {},
   "outputs": [
    {
     "name": "stdout",
     "output_type": "stream",
     "text": [
      "[[246 270 294]\n",
      " [336 369 402]\n",
      " [426 468 510]]\n"
     ]
    }
   ],
   "source": [
    "print(x@y)  #matrix multiplication"
   ]
  },
  {
   "cell_type": "code",
   "execution_count": null,
   "id": "c6dfab8b",
   "metadata": {},
   "outputs": [
    {
     "data": {
      "text/plain": [
       "array([[246, 270, 294],\n",
       "       [336, 369, 402],\n",
       "       [426, 468, 510]])"
      ]
     },
     "execution_count": 29,
     "metadata": {},
     "output_type": "execute_result"
    }
   ],
   "source": [
    "np.dot(x,y)# matrix mutiplicatiion alternate"
   ]
  },
  {
   "cell_type": "code",
   "execution_count": null,
   "id": "bedc703e",
   "metadata": {},
   "outputs": [
    {
     "data": {
      "text/plain": [
       "1816214400"
      ]
     },
     "execution_count": 30,
     "metadata": {},
     "output_type": "execute_result"
    }
   ],
   "source": [
    "x.prod()"
   ]
  },
  {
   "cell_type": "code",
   "execution_count": null,
   "id": "e6f7bf07",
   "metadata": {},
   "outputs": [
    {
     "data": {
      "text/plain": [
       "array([10., 11., 12.])"
      ]
     },
     "execution_count": 31,
     "metadata": {},
     "output_type": "execute_result"
    }
   ],
   "source": [
    "x.mean(axis=0) # mean according to coloumn"
   ]
  },
  {
   "cell_type": "code",
   "execution_count": null,
   "id": "13d51fd6",
   "metadata": {},
   "outputs": [
    {
     "data": {
      "text/plain": [
       "array([ 8., 11., 14.])"
      ]
     },
     "execution_count": 32,
     "metadata": {},
     "output_type": "execute_result"
    }
   ],
   "source": [
    "x.mean(axis=1) #according to row"
   ]
  },
  {
   "cell_type": "code",
   "execution_count": null,
   "id": "825d0eb7",
   "metadata": {},
   "outputs": [
    {
     "name": "stdout",
     "output_type": "stream",
     "text": [
      "99\n",
      "[30 33 36]\n",
      "[24 33 42]\n"
     ]
    }
   ],
   "source": [
    "print(x.sum()) # sum of all elements\n",
    "print(x.sum(axis=0)) #sum of each coloumn\n",
    "print(x.sum(axis=1)) # sum of each row"
   ]
  },
  {
   "cell_type": "code",
   "execution_count": null,
   "id": "a791202c",
   "metadata": {},
   "outputs": [
    {
     "name": "stdout",
     "output_type": "stream",
     "text": [
      "2.581988897471611\n",
      "6.666666666666667\n"
     ]
    }
   ],
   "source": [
    "print(x.std()) #standard diviation\n",
    "print(x.var()) #VARIENCE"
   ]
  },
  {
   "cell_type": "code",
   "execution_count": null,
   "id": "fcb7e37c",
   "metadata": {},
   "outputs": [
    {
     "name": "stdout",
     "output_type": "stream",
     "text": [
      "5.0\n",
      "3.0\n",
      "7.0\n"
     ]
    }
   ],
   "source": [
    "a=np.array([1,2,3,4,5,6,7,8,9])\n",
    "print(np.percentile(a,50))#median\n",
    "print(np.percentile(a,25))#1st quartile\n",
    "print(np.percentile(a,75))#3rd quartile"
   ]
  },
  {
   "cell_type": "code",
   "execution_count": null,
   "id": "3bca130b",
   "metadata": {},
   "outputs": [
    {
     "name": "stdout",
     "output_type": "stream",
     "text": [
      "[[95 28 79 77]\n",
      " [87 86 88 53]\n",
      " [52 75 97 56]\n",
      " [75 41 63 16]]\n"
     ]
    }
   ],
   "source": [
    "b=np.random.randint(11,100,size=(4,4))\n",
    "print(b)"
   ]
  },
  {
   "cell_type": "code",
   "execution_count": null,
   "id": "dad30ac8",
   "metadata": {},
   "outputs": [
    {
     "name": "stdout",
     "output_type": "stream",
     "text": [
      "2x8\n",
      "[[95 28 79 77 87 86 88 53]\n",
      " [52 75 97 56 75 41 63 16]]\n",
      "8x2\n",
      "[[95 28]\n",
      " [79 77]\n",
      " [87 86]\n",
      " [88 53]\n",
      " [52 75]\n",
      " [97 56]\n",
      " [75 41]\n",
      " [63 16]]\n"
     ]
    }
   ],
   "source": [
    "print('2x8')\n",
    "print(b.reshape(2,8))\n",
    "print('8x2')\n",
    "print(b.reshape(8,2))"
   ]
  },
  {
   "cell_type": "code",
   "execution_count": null,
   "id": "03c9f0ca",
   "metadata": {},
   "outputs": [],
   "source": []
  },
  {
   "cell_type": "code",
   "execution_count": null,
   "id": "df38f3a7",
   "metadata": {},
   "outputs": [
    {
     "name": "stdout",
     "output_type": "stream",
     "text": [
      "[[[13 91 39 33]\n",
      "  [88 30 79 29]\n",
      "  [70 66 54 84]\n",
      "  [40 49 12 76]]\n",
      "\n",
      " [[96 35 78 14]\n",
      "  [81 84 11 62]\n",
      "  [41 66 33 68]\n",
      "  [87 85 37 40]]\n",
      "\n",
      " [[79 33 50 53]\n",
      "  [63 43 85 20]\n",
      "  [98 98 75 32]\n",
      "  [97 52 70 72]]]\n"
     ]
    }
   ],
   "source": [
    "#b=np.random.randint(11,100,size=(3,4,4)) #3d array\n",
    "#print(b)"
   ]
  },
  {
   "cell_type": "code",
   "execution_count": null,
   "id": "dfd7d4b9",
   "metadata": {},
   "outputs": [
    {
     "name": "stdout",
     "output_type": "stream",
     "text": [
      "[[47 54 70 87]\n",
      " [22 82 40 36]\n",
      " [96 12 55 87]\n",
      " [20 35 87 32]]\n"
     ]
    }
   ],
   "source": [
    "b=np.random.randint(11,100,size=(4,4))   #generating an array\n",
    "print(b)"
   ]
  },
  {
   "cell_type": "code",
   "execution_count": null,
   "id": "8f54d8dd",
   "metadata": {},
   "outputs": [
    {
     "name": "stdout",
     "output_type": "stream",
     "text": [
      "[array([47, 54, 70, 87])]\n",
      "54\n",
      "[20 35 87 32]\n"
     ]
    },
    {
     "ename": "TypeError",
     "evalue": "'axis' is an invalid keyword argument for print()",
     "output_type": "error",
     "traceback": [
      "\u001b[31m---------------------------------------------------------------------------\u001b[39m",
      "\u001b[31mTypeError\u001b[39m                                 Traceback (most recent call last)",
      "\u001b[36mCell\u001b[39m\u001b[36m \u001b[39m\u001b[32mIn[55]\u001b[39m\u001b[32m, line 4\u001b[39m\n\u001b[32m      2\u001b[39m \u001b[38;5;28mprint\u001b[39m(b[\u001b[32m0\u001b[39m,\u001b[32m1\u001b[39m])\u001b[38;5;66;03m#1st row 2nd column\u001b[39;00m\n\u001b[32m      3\u001b[39m \u001b[38;5;28mprint\u001b[39m (b[-\u001b[32m1\u001b[39m])\n\u001b[32m----> \u001b[39m\u001b[32m4\u001b[39m \u001b[38;5;28;43mprint\u001b[39;49m\u001b[43m(\u001b[49m\u001b[43mb\u001b[49m\u001b[43m[\u001b[49m\u001b[43m:\u001b[49m\u001b[32;43m3\u001b[39;49m\u001b[43m]\u001b[49m\u001b[43m,\u001b[49m\u001b[43maxis\u001b[49m\u001b[43m=\u001b[49m\u001b[32;43m0\u001b[39;49m\u001b[43m)\u001b[49m\n\u001b[32m      5\u001b[39m \u001b[38;5;28mprint\u001b[39m(b[\u001b[32m3\u001b[39m:])\n",
      "\u001b[31mTypeError\u001b[39m: 'axis' is an invalid keyword argument for print()"
     ]
    }
   ],
   "source": [
    "print([b[0]]) #first row\n",
    "print(b[0,1])#1st row 2nd column\n",
    "print (b[-1])\n",
    "print(b[:3])\n",
    "print(b[3:])"
   ]
  },
  {
   "cell_type": "code",
   "execution_count": null,
   "id": "6200adca",
   "metadata": {},
   "outputs": [],
   "source": []
  }
 ],
 "metadata": {
  "kernelspec": {
   "display_name": "base",
   "language": "python",
   "name": "python3"
  },
  "language_info": {
   "codemirror_mode": {
    "name": "ipython",
    "version": 3
   },
   "file_extension": ".py",
   "mimetype": "text/x-python",
   "name": "python",
   "nbconvert_exporter": "python",
   "pygments_lexer": "ipython3",
   "version": "3.12.4"
  }
 },
 "nbformat": 4,
 "nbformat_minor": 5
}
