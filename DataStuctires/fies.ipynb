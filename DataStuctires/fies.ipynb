{
 "cells": [
  {
   "cell_type": "code",
   "execution_count": 5,
   "id": "3c2120d2",
   "metadata": {},
   "outputs": [
    {
     "name": "stdout",
     "output_type": "stream",
     "text": [
      "file written successfully\n",
      "hello buddy!\n"
     ]
    }
   ],
   "source": [
    "file=open(\"txt.text\",'w')\n",
    "file.write(\"hello buddy!\")\n",
    "print(\"file written successfully\")\n",
    "file=open(\"txt.text\",'r')\n",
    "print(file.read())"
   ]
  },
  {
   "cell_type": "code",
   "execution_count": 8,
   "id": "d4d95cf0",
   "metadata": {},
   "outputs": [
    {
     "name": "stdout",
     "output_type": "stream",
     "text": [
      "file written successfully\n",
      "hello buddy!\n",
      "Hello Again\n",
      "Hello Again\n",
      "Hello Again\n"
     ]
    }
   ],
   "source": [
    "file=open(\"txt.text\",'a')\n",
    "file.write(\"\\nHello Again\")\n",
    "print(\"file written successfully\")\n",
    "file=open(\"txt.text\",'r')\n",
    "print(file.read())"
   ]
  },
  {
   "cell_type": "code",
   "execution_count": 9,
   "id": "752fe233",
   "metadata": {},
   "outputs": [],
   "source": [
    "import os"
   ]
  },
  {
   "cell_type": "code",
   "execution_count": 12,
   "id": "7ff4ab82",
   "metadata": {},
   "outputs": [
    {
     "name": "stdout",
     "output_type": "stream",
     "text": [
      "-> C:\\Users\\zafir\\OneDrive\\Desktop\\stock\n",
      "🗃️ ['html', 'st']\n",
      "📂 ['BTC.png', 'card chip.png', 'ETH.png', 'logo.png', 'master card.png', 'mcdonalds.png', 'monster.png', 'profile-1.png', 'Responsive Admin Dashboard V.1.1.html', 'revolute.png', 'stock', 'stock.css', 'stock.js', 'tesla.png', 'uniliver.png', 'USDT.png', 'visa.png']\n",
      "-> C:\\Users\\zafir\\OneDrive\\Desktop\\stock\\html\n",
      "🗃️ ['hello', 'stock3']\n",
      "📂 ['stock1.html']\n",
      "-> C:\\Users\\zafir\\OneDrive\\Desktop\\stock\\html\\hello\n",
      "🗃️ []\n",
      "📂 []\n",
      "-> C:\\Users\\zafir\\OneDrive\\Desktop\\stock\\html\\stock3\n",
      "🗃️ []\n",
      "📂 []\n",
      "-> C:\\Users\\zafir\\OneDrive\\Desktop\\stock\\st\n",
      "🗃️ []\n",
      "📂 []\n",
      "total_files = 0\n"
     ]
    }
   ],
   "source": [
    "total_files=0\n",
    "for path,folders,file in os.walk(r\"C:\\Users\\zafir\\OneDrive\\Desktop\\stock\"):\n",
    "\n",
    "    print(\"->\",path)\n",
    "    print(\"🗃️\",folders)\n",
    "    print(\"📂\",file)\n",
    "print(\"total_files =\",total_files)"
   ]
  }
 ],
 "metadata": {
  "kernelspec": {
   "display_name": "base",
   "language": "python",
   "name": "python3"
  },
  "language_info": {
   "codemirror_mode": {
    "name": "ipython",
    "version": 3
   },
   "file_extension": ".py",
   "mimetype": "text/x-python",
   "name": "python",
   "nbconvert_exporter": "python",
   "pygments_lexer": "ipython3",
   "version": "3.12.4"
  }
 },
 "nbformat": 4,
 "nbformat_minor": 5
}
