{
 "cells": [
  {
   "cell_type": "code",
   "execution_count": 2,
   "id": "f23386dd",
   "metadata": {},
   "outputs": [
    {
     "name": "stdout",
     "output_type": "stream",
     "text": [
      "{'name': 'zafirah', 'rollno': 23, 'subject': 'maths', 'marks': 98}\n"
     ]
    }
   ],
   "source": [
    "student={\"name\":\"zafirah\",\"rollno\":23,\"subject\":\"maths\",\"marks\":98}\n",
    "print(student)"
   ]
  },
  {
   "cell_type": "code",
   "execution_count": null,
   "id": "872dc9f1",
   "metadata": {},
   "outputs": [],
   "source": [
    "'''how to declare loops\n",
    "how to access keys and values\n",
    "how to apply loops\n",
    "how to make nested dictionaries\n",
    "how to access value in nested dictionaries'''\n"
   ]
  },
  {
   "cell_type": "code",
   "execution_count": 4,
   "id": "f0cf07c5",
   "metadata": {},
   "outputs": [
    {
     "name": "stdout",
     "output_type": "stream",
     "text": [
      "{'lko': [35, 43, 34], 'delhi': [54, 53, 34]}\n"
     ]
    }
   ],
   "source": [
    "temp={\"lko\":[35,43,34],\n",
    "      \"delhi\":[54,53,34],\n",
    "      }     #to add multiple values use list in dictionary\n",
    "print(temp)"
   ]
  },
  {
   "cell_type": "code",
   "execution_count": 8,
   "id": "79c678f1",
   "metadata": {},
   "outputs": [
    {
     "name": "stdout",
     "output_type": "stream",
     "text": [
      "{'name': 'Alice', 'age': 12, 'city': 'lucknow'}\n"
     ]
    }
   ],
   "source": [
    "info=dict(name=\"Alice\",age=12,city=\"lucknow\")\n",
    "print(info)"
   ]
  },
  {
   "cell_type": "code",
   "execution_count": 9,
   "id": "8cbf7d63",
   "metadata": {},
   "outputs": [
    {
     "name": "stdout",
     "output_type": "stream",
     "text": [
      "{'name': 'Alice', 'age': '21', 'city': 'lucknow'}\n"
     ]
    }
   ],
   "source": [
    "info=dict(name=\"Alice\",age=input(\"enter your age\"),city=\"lucknow\")\n",
    "print(info)"
   ]
  },
  {
   "cell_type": "code",
   "execution_count": 10,
   "id": "3533a9a8",
   "metadata": {},
   "outputs": [
    {
     "data": {
      "text/plain": [
       "'zafirah'"
      ]
     },
     "execution_count": 10,
     "metadata": {},
     "output_type": "execute_result"
    }
   ],
   "source": [
    "#list method to acees value through key is \n",
    "student[\"name\"]"
   ]
  },
  {
   "cell_type": "code",
   "execution_count": null,
   "id": "7a124837",
   "metadata": {},
   "outputs": [],
   "source": [
    "#print the average temperature of lko of temp dictionary"
   ]
  },
  {
   "cell_type": "code",
   "execution_count": 11,
   "id": "c5f297cc",
   "metadata": {},
   "outputs": [
    {
     "data": {
      "text/plain": [
       "'21'"
      ]
     },
     "execution_count": 11,
     "metadata": {},
     "output_type": "execute_result"
    }
   ],
   "source": [
    "student[\"name\"]\n",
    "info[\"age\"]"
   ]
  },
  {
   "cell_type": "code",
   "execution_count": 14,
   "id": "0d2e4807",
   "metadata": {},
   "outputs": [
    {
     "data": {
      "text/plain": [
       "[35, 43, 34]"
      ]
     },
     "execution_count": 14,
     "metadata": {},
     "output_type": "execute_result"
    }
   ],
   "source": [
    "student.get(\"name\")\n",
    "temp.get(\"lko\")"
   ]
  },
  {
   "cell_type": "code",
   "execution_count": 15,
   "id": "71521e8c",
   "metadata": {},
   "outputs": [
    {
     "name": "stdout",
     "output_type": "stream",
     "text": [
      "dict_keys(['name', 'rollno', 'subject', 'marks'])\n"
     ]
    }
   ],
   "source": [
    "print(student.keys())"
   ]
  },
  {
   "cell_type": "code",
   "execution_count": 16,
   "id": "b43b3a76",
   "metadata": {},
   "outputs": [
    {
     "name": "stdout",
     "output_type": "stream",
     "text": [
      "dict_values(['zafirah', 23, 'maths', 98])\n"
     ]
    }
   ],
   "source": [
    "print (student.values())"
   ]
  },
  {
   "cell_type": "code",
   "execution_count": 17,
   "id": "7c398aac",
   "metadata": {},
   "outputs": [
    {
     "name": "stdout",
     "output_type": "stream",
     "text": [
      "dict_items([('name', 'zafirah'), ('rollno', 23), ('subject', 'maths'), ('marks', 98)])\n"
     ]
    }
   ],
   "source": [
    "print(student.items())"
   ]
  },
  {
   "cell_type": "code",
   "execution_count": 26,
   "id": "72781666",
   "metadata": {},
   "outputs": [
    {
     "name": "stdout",
     "output_type": "stream",
     "text": [
      "name: Alice\n",
      "age: 21\n",
      "city: lucknow\n"
     ]
    }
   ],
   "source": [
    "\n",
    "\n",
    "for k, y in info.items():   # k = key, y = value\n",
    "    print(f'{k}: {y}')\n"
   ]
  },
  {
   "cell_type": "code",
   "execution_count": 30,
   "id": "b0f7e599",
   "metadata": {},
   "outputs": [],
   "source": [
    "car = {\n",
    "    \"Car\": {\n",
    "        \"Brand\": \"Land Rover\",\n",
    "        \"Model\": \"Defender\",\n",
    "        \"Year\": 2025\n",
    "    },\n",
    "    \"Owner\": {\n",
    "        \"Name\": \"Zafirah\",\n",
    "        \"Age\": 23,\n",
    "    \"Address\": {\n",
    "            \"City\": \"Lucknow\",\n",
    "            \"State\": \"UP\",\n",
    "            \"Country\": \"India\"\n",
    "        }\n",
    "    }\n",
    "}\n"
   ]
  },
  {
   "cell_type": "code",
   "execution_count": 31,
   "id": "855ff3ad",
   "metadata": {},
   "outputs": [
    {
     "data": {
      "text/plain": [
       "{'Car': {'Brand': 'Land Rover', 'Model': 'Defender', 'Year': 2025},\n",
       " 'Owner': {'Name': 'Zafirah',\n",
       "  'Age': 23,\n",
       "  'Address': {'City': 'Lucknow', 'State': 'UP', 'Country': 'India'}}}"
      ]
     },
     "execution_count": 31,
     "metadata": {},
     "output_type": "execute_result"
    }
   ],
   "source": [
    "car"
   ]
  },
  {
   "cell_type": "code",
   "execution_count": 34,
   "id": "5dac9c39",
   "metadata": {},
   "outputs": [],
   "source": [
    "car[\"New\"]={\n",
    "    \"Name\": \"Zofeera\",\n",
    "        \"Age\": 21,\n",
    "}"
   ]
  },
  {
   "cell_type": "code",
   "execution_count": 35,
   "id": "6e250b82",
   "metadata": {},
   "outputs": [
    {
     "name": "stdout",
     "output_type": "stream",
     "text": [
      "{'Car': {'Brand': 'Land Rover', 'Model': 'Defender', 'Year': 2025}, 'Owner': {'Name': 'Zofeera', 'Age': 21}, 'New': {'Name': 'Zofeera', 'Age': 21}}\n"
     ]
    }
   ],
   "source": [
    "print(car)"
   ]
  },
  {
   "cell_type": "code",
   "execution_count": 38,
   "id": "d244e6ef",
   "metadata": {},
   "outputs": [],
   "source": [
    "car[\"Owner\"]={\n",
    "    \"Name\": \"Khan\",\n",
    "        \"Age\": 21,}"
   ]
  },
  {
   "cell_type": "code",
   "execution_count": 39,
   "id": "b2ed9d2d",
   "metadata": {},
   "outputs": [
    {
     "name": "stdout",
     "output_type": "stream",
     "text": [
      "{'Car': {'Brand': 'Land Rover', 'Model': 'Defender', 'Year': 2025}, 'Owner': {'Name': 'Khan', 'Age': 21}, 'New': {'Name': 'Zofeera', 'Age': 21}}\n"
     ]
    }
   ],
   "source": [
    "print(car)"
   ]
  },
  {
   "cell_type": "code",
   "execution_count": 40,
   "id": "dd16d29d",
   "metadata": {},
   "outputs": [
    {
     "ename": "NameError",
     "evalue": "name 'Car' is not defined",
     "output_type": "error",
     "traceback": [
      "\u001b[31m---------------------------------------------------------------------------\u001b[39m",
      "\u001b[31mNameError\u001b[39m                                 Traceback (most recent call last)",
      "\u001b[36mCell\u001b[39m\u001b[36m \u001b[39m\u001b[32mIn[40]\u001b[39m\u001b[32m, line 1\u001b[39m\n\u001b[32m----> \u001b[39m\u001b[32m1\u001b[39m \u001b[43mCar\u001b[49m[\u001b[33m\"\u001b[39m\u001b[33mAddress\u001b[39m\u001b[33m\"\u001b[39m][\u001b[33m\"\u001b[39m\u001b[33mCity\u001b[39m\u001b[33m\"\u001b[39m]\n",
      "\u001b[31mNameError\u001b[39m: name 'Car' is not defined"
     ]
    }
   ],
   "source": [
    "Car[\"Address\"][\"City\"]"
   ]
  }
 ],
 "metadata": {
  "kernelspec": {
   "display_name": "base",
   "language": "python",
   "name": "python3"
  },
  "language_info": {
   "codemirror_mode": {
    "name": "ipython",
    "version": 3
   },
   "file_extension": ".py",
   "mimetype": "text/x-python",
   "name": "python",
   "nbconvert_exporter": "python",
   "pygments_lexer": "ipython3",
   "version": "3.12.4"
  }
 },
 "nbformat": 4,
 "nbformat_minor": 5
}
