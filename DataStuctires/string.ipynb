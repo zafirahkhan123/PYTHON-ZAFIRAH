{
 "cells": [
  {
   "cell_type": "code",
   "execution_count": 1,
   "id": "f58129c7",
   "metadata": {},
   "outputs": [
    {
     "name": "stdout",
     "output_type": "stream",
     "text": [
      "Hello my name is zafirah\n"
     ]
    }
   ],
   "source": [
    "string1=\"Hello my name is zafirah\"\n",
    "print(string1)"
   ]
  },
  {
   "cell_type": "code",
   "execution_count": 2,
   "id": "09954d16",
   "metadata": {},
   "outputs": [
    {
     "name": "stdout",
     "output_type": "stream",
     "text": [
      "H\n",
      "e\n",
      "l\n",
      "l\n",
      "o\n",
      " \n",
      "m\n",
      "y\n",
      " \n",
      "n\n",
      "a\n",
      "m\n",
      "e\n",
      " \n",
      "i\n",
      "s\n",
      " \n",
      "z\n",
      "a\n",
      "f\n",
      "i\n",
      "r\n",
      "a\n",
      "h\n"
     ]
    }
   ],
   "source": [
    "for i in string1:\n",
    "    print(i)"
   ]
  },
  {
   "cell_type": "code",
   "execution_count": 3,
   "id": "cf46ed1c",
   "metadata": {},
   "outputs": [
    {
     "name": "stdout",
     "output_type": "stream",
     "text": [
      "l\n"
     ]
    }
   ],
   "source": [
    "print(string1[2])"
   ]
  },
  {
   "cell_type": "code",
   "execution_count": 4,
   "id": "815f1d55",
   "metadata": {},
   "outputs": [
    {
     "name": "stdout",
     "output_type": "stream",
     "text": [
      "Hello my n\n"
     ]
    }
   ],
   "source": [
    "print(string1[:10])"
   ]
  },
  {
   "cell_type": "code",
   "execution_count": 5,
   "id": "42f902ce",
   "metadata": {},
   "outputs": [],
   "source": [
    "new=string1.split()"
   ]
  },
  {
   "cell_type": "code",
   "execution_count": 6,
   "id": "f7f822cf",
   "metadata": {},
   "outputs": [
    {
     "name": "stdout",
     "output_type": "stream",
     "text": [
      "name\n"
     ]
    }
   ],
   "source": [
    "print(new[2])"
   ]
  },
  {
   "cell_type": "code",
   "execution_count": 7,
   "id": "c3fc12cb",
   "metadata": {},
   "outputs": [
    {
     "data": {
      "text/plain": [
       "'name'"
      ]
     },
     "execution_count": 7,
     "metadata": {},
     "output_type": "execute_result"
    }
   ],
   "source": [
    "string1[9:13]"
   ]
  },
  {
   "cell_type": "code",
   "execution_count": 8,
   "id": "79fee2c2",
   "metadata": {},
   "outputs": [
    {
     "name": "stdout",
     "output_type": "stream",
     "text": [
      "Boujour!J'amapelle Zafirah\n"
     ]
    }
   ],
   "source": [
    "#dtring concatination\n",
    "string2=\"Boujour!\"\n",
    "string3=\"J'amapelle Zafirah\"\n",
    "print(string2+string3)\n"
   ]
  },
  {
   "cell_type": "code",
   "execution_count": null,
   "id": "381f5251",
   "metadata": {},
   "outputs": [
    {
     "data": {
      "text/plain": [
       "'Zafirah Is A Good Girl'"
      ]
     },
     "execution_count": 10,
     "metadata": {},
     "output_type": "execute_result"
    }
   ],
   "source": [
    "x=\"zafirah is a good girl\"\n",
    "x.upper()\n",
    "\n",
    "\n"
   ]
  },
  {
   "cell_type": "code",
   "execution_count": 11,
   "id": "d883e7fd",
   "metadata": {},
   "outputs": [
    {
     "data": {
      "text/plain": [
       "'zafirah is a good girl'"
      ]
     },
     "execution_count": 11,
     "metadata": {},
     "output_type": "execute_result"
    }
   ],
   "source": [
    "x.lower()\n"
   ]
  },
  {
   "cell_type": "code",
   "execution_count": 12,
   "id": "950ace2f",
   "metadata": {},
   "outputs": [
    {
     "data": {
      "text/plain": [
       "'Zafirah Is A Good Girl'"
      ]
     },
     "execution_count": 12,
     "metadata": {},
     "output_type": "execute_result"
    }
   ],
   "source": [
    "\n",
    "x.title()"
   ]
  },
  {
   "cell_type": "code",
   "execution_count": 13,
   "id": "dd0fa506",
   "metadata": {},
   "outputs": [
    {
     "data": {
      "text/plain": [
       "'Zafirah is a good girl'"
      ]
     },
     "execution_count": 13,
     "metadata": {},
     "output_type": "execute_result"
    }
   ],
   "source": [
    "x.capitalize()"
   ]
  },
  {
   "cell_type": "code",
   "execution_count": 15,
   "id": "d19f0d81",
   "metadata": {},
   "outputs": [
    {
     "name": "stdout",
     "output_type": "stream",
     "text": [
      "jonny jonny yes papa,\n",
      "Eating sugar no papa\n",
      "telling a lie no papa\n"
     ]
    }
   ],
   "source": [
    "poem='''jonny jonny yes papa,\n",
    "Eating sugar no papa\n",
    "telling a lie no papa'''\n",
    "print(poem)"
   ]
  },
  {
   "cell_type": "code",
   "execution_count": 16,
   "id": "76ba39ee",
   "metadata": {},
   "outputs": [
    {
     "data": {
      "text/plain": [
       "16"
      ]
     },
     "execution_count": 16,
     "metadata": {},
     "output_type": "execute_result"
    }
   ],
   "source": [
    "poem.find(\"papa\")"
   ]
  },
  {
   "cell_type": "code",
   "execution_count": 19,
   "id": "76761d21",
   "metadata": {},
   "outputs": [
    {
     "data": {
      "text/plain": [
       "'jonny jonny yes fufa,\\nEating poison no fufa\\ntelling a lie no fufa'"
      ]
     },
     "execution_count": 19,
     "metadata": {},
     "output_type": "execute_result"
    }
   ],
   "source": [
    "poem.replace(\"papa\",\"fufa\").replace(\"sugar\",\"poison\")"
   ]
  },
  {
   "cell_type": "code",
   "execution_count": null,
   "id": "c562b5db",
   "metadata": {},
   "outputs": [],
   "source": []
  },
  {
   "cell_type": "code",
   "execution_count": 20,
   "id": "c70a18e6",
   "metadata": {},
   "outputs": [
    {
     "data": {
      "text/plain": [
       "['you', 'are', 'fool']"
      ]
     },
     "execution_count": 20,
     "metadata": {},
     "output_type": "execute_result"
    }
   ],
   "source": [
    "a=\"you are fool\"\n",
    "a.split()"
   ]
  },
  {
   "cell_type": "code",
   "execution_count": 21,
   "id": "dab2ee80",
   "metadata": {},
   "outputs": [
    {
     "data": {
      "text/plain": [
       "['jonny jonny yes papa,', 'Eating sugar no papa', 'telling a lie no papa']"
      ]
     },
     "execution_count": 21,
     "metadata": {},
     "output_type": "execute_result"
    }
   ],
   "source": [
    "poem.splitlines()"
   ]
  },
  {
   "cell_type": "code",
   "execution_count": 24,
   "id": "09e00a03",
   "metadata": {},
   "outputs": [
    {
     "name": "stdout",
     "output_type": "stream",
     "text": [
      "C:/Users/Desktop/Python\n"
     ]
    }
   ],
   "source": [
    "path=[\"C:\",\"Users\",\"Desktop\",\"Python\"]\n",
    "print('/'.join(path))"
   ]
  },
  {
   "cell_type": "code",
   "execution_count": null,
   "id": "a67fa6db",
   "metadata": {},
   "outputs": [],
   "source": []
  },
  {
   "cell_type": "code",
   "execution_count": 30,
   "id": "51c4befb",
   "metadata": {},
   "outputs": [
    {
     "name": "stdout",
     "output_type": "stream",
     "text": [
      "i am learing Python\n"
     ]
    }
   ],
   "source": [
    "text = \"i learing Python\"\n",
    "words = text.split()  # split into list\n",
    "words.insert(1, \"am\")  # insert \"am\" at position 1\n",
    "mytext = \" \".join(words)  # join the list into a string\n",
    "print(mytext)\n"
   ]
  },
  {
   "cell_type": "code",
   "execution_count": null,
   "id": "5aca4ceb",
   "metadata": {},
   "outputs": [],
   "source": []
  }
 ],
 "metadata": {
  "kernelspec": {
   "display_name": "base",
   "language": "python",
   "name": "python3"
  },
  "language_info": {
   "codemirror_mode": {
    "name": "ipython",
    "version": 3
   },
   "file_extension": ".py",
   "mimetype": "text/x-python",
   "name": "python",
   "nbconvert_exporter": "python",
   "pygments_lexer": "ipython3",
   "version": "3.12.4"
  }
 },
 "nbformat": 4,
 "nbformat_minor": 5
}
