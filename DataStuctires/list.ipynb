{
 "cells": [
  {
   "cell_type": "code",
   "execution_count": null,
   "id": "67c28acf",
   "metadata": {},
   "outputs": [
    {
     "name": "stdout",
     "output_type": "stream",
     "text": [
      "facebook instagram Snapchat twitter Amazon youtube clock prime paytm gpay "
     ]
    }
   ],
   "source": [
    "apps=[\"facebook\",\"instagram\",\"Snapchat\",\"twitter\",\"Amazon\",\"youtube\",\"clock\",\"prime\",\"paytm\",\"gpay\"]\n",
    "for i in apps:\n",
    "    print(i )"
   ]
  },
  {
   "cell_type": "code",
   "execution_count": 18,
   "id": "5d679584",
   "metadata": {},
   "outputs": [
    {
     "name": "stdout",
     "output_type": "stream",
     "text": [
      "['instagram', 'twitter', 'youtube', 'prime']\n"
     ]
    }
   ],
   "source": [
    "print(apps[1:8:2])"
   ]
  },
  {
   "cell_type": "code",
   "execution_count": 19,
   "id": "bba2db18",
   "metadata": {},
   "outputs": [
    {
     "name": "stdout",
     "output_type": "stream",
     "text": [
      "['Snapchat', 'twitter', 'Amazon', 'youtube', 'clock', 'prime', 'paytm', 'gpay']\n"
     ]
    }
   ],
   "source": [
    "print(apps[2:])"
   ]
  },
  {
   "cell_type": "code",
   "execution_count": 22,
   "id": "798fcd08",
   "metadata": {},
   "outputs": [
    {
     "name": "stdout",
     "output_type": "stream",
     "text": [
      "Snapchat\n"
     ]
    }
   ],
   "source": [
    "#INDEXING AND SLICING [range (n-1)]\n",
    "\n",
    "print(apps[2])\n"
   ]
  },
  {
   "cell_type": "code",
   "execution_count": 20,
   "id": "2d55451e",
   "metadata": {},
   "outputs": [
    {
     "name": "stdout",
     "output_type": "stream",
     "text": [
      "['facebook', 'instagram', 'Snapchat', 'twitter', 'Amazon', 'youtube', 'clock', 'prime', 'paytm', 'gpay']\n"
     ]
    }
   ],
   "source": [
    "print(apps[:])"
   ]
  },
  {
   "cell_type": "code",
   "execution_count": 5,
   "id": "996bcd6e",
   "metadata": {},
   "outputs": [
    {
     "name": "stdout",
     "output_type": "stream",
     "text": [
      "['facebook', 'instagram', 'Snapchat', 'twitter', 'Amazon', 'youtube', 'clock', 'prime']\n"
     ]
    }
   ],
   "source": [
    "print(apps[:8])"
   ]
  },
  {
   "cell_type": "code",
   "execution_count": 6,
   "id": "618dc09e",
   "metadata": {},
   "outputs": [
    {
     "name": "stdout",
     "output_type": "stream",
     "text": [
      "['facebook', 'Snapchat', 'Amazon', 'clock', 'paytm']\n"
     ]
    }
   ],
   "source": [
    "print(apps[:11:2])"
   ]
  },
  {
   "cell_type": "code",
   "execution_count": 8,
   "id": "21fcb234",
   "metadata": {},
   "outputs": [
    {
     "name": "stdout",
     "output_type": "stream",
     "text": [
      "['gpay', 'paytm', 'prime', 'clock', 'youtube', 'Amazon', 'twitter', 'Snapchat', 'instagram', 'facebook']\n"
     ]
    }
   ],
   "source": [
    "print(apps[::-1])"
   ]
  },
  {
   "cell_type": "code",
   "execution_count": 21,
   "id": "0c2fd6a6",
   "metadata": {},
   "outputs": [
    {
     "name": "stdout",
     "output_type": "stream",
     "text": [
      "['gpay', 'paytm', 'prime', 'clock', 'youtube', 'Amazon', 'twitter']\n"
     ]
    }
   ],
   "source": [
    "print(apps[-1:-8:-1])"
   ]
  },
  {
   "cell_type": "code",
   "execution_count": 16,
   "id": "5cf166ea",
   "metadata": {},
   "outputs": [
    {
     "name": "stdout",
     "output_type": "stream",
     "text": [
      "['twitter', 'youtube', 'prime']\n"
     ]
    }
   ],
   "source": [
    "print(apps[-7:-1:2])"
   ]
  },
  {
   "cell_type": "code",
   "execution_count": 17,
   "id": "47153786",
   "metadata": {},
   "outputs": [
    {
     "name": "stdout",
     "output_type": "stream",
     "text": [
      "['twitter', 'Amazon', 'youtube', 'clock', 'prime', 'paytm']\n"
     ]
    }
   ],
   "source": [
    "print(apps[-7:-1])"
   ]
  },
  {
   "cell_type": "code",
   "execution_count": 15,
   "id": "47e1932b",
   "metadata": {},
   "outputs": [
    {
     "name": "stdout",
     "output_type": "stream",
     "text": [
      "['twitter', 'Amazon', 'youtube', 'clock', 'prime', 'paytm']\n"
     ]
    }
   ],
   "source": [
    "print(apps[-7:-1])"
   ]
  },
  {
   "cell_type": "code",
   "execution_count": null,
   "id": "c10972f1",
   "metadata": {},
   "outputs": [],
   "source": [
    "# LIST METHODS\n",
    "'''append()- to add items at the end of the list\n",
    "insert()- to add items at the specific position inthe list\n",
    "pop()-to delete items at its index  positions\n",
    "remove()-to delete items using item \n",
    "copy()-to make a duplicate copy of the list\n",
    "sort()-TO SORT THE LIST IN PARTICULAR ORDER\n",
    "extend()-to comboine two list into a single list\n",
    "clear()- to delete items from the list but not thelist'''"
   ]
  },
  {
   "cell_type": "code",
   "execution_count": 24,
   "id": "9dda3776",
   "metadata": {},
   "outputs": [
    {
     "name": "stdout",
     "output_type": "stream",
     "text": [
      "['facebook', 'instagram', 'Snapchat', 'twitter', 'Amazon', 'youtube', 'clock', 'prime', 'paytm', 'gpay', 'clock', 'clock']\n"
     ]
    }
   ],
   "source": [
    "apps.append(\"clock\")\n",
    "print(apps)"
   ]
  },
  {
   "cell_type": "code",
   "execution_count": 27,
   "id": "a0dc3772",
   "metadata": {},
   "outputs": [
    {
     "name": "stdout",
     "output_type": "stream",
     "text": [
      "['facebook', 'instagram', 'uber', 'uber', 'uber', 'Snapchat', 'twitter', 'Amazon', 'youtube', 'clock', 'prime', 'paytm', 'gpay', 'clock', 'clock']\n"
     ]
    }
   ],
   "source": [
    "apps.insert(2,\"uber\")\n",
    "print(apps)"
   ]
  },
  {
   "cell_type": "code",
   "execution_count": 28,
   "id": "990935ee",
   "metadata": {},
   "outputs": [
    {
     "data": {
      "text/plain": [
       "'uber'"
      ]
     },
     "execution_count": 28,
     "metadata": {},
     "output_type": "execute_result"
    }
   ],
   "source": [
    "apps.pop(2)"
   ]
  },
  {
   "cell_type": "code",
   "execution_count": 49,
   "id": "95293b11",
   "metadata": {},
   "outputs": [
    {
     "name": "stdout",
     "output_type": "stream",
     "text": [
      "['Amazon', 'clock', 'clock', 'clock', 'facebook', 'gpay', 'paytm', 'prime', 'twitter', 'uber', 'uber', 'youtube']\n"
     ]
    }
   ],
   "source": [
    "cooy=apps.copy()\n",
    "print(apps)"
   ]
  },
  {
   "cell_type": "code",
   "execution_count": 53,
   "id": "f8b16128",
   "metadata": {},
   "outputs": [
    {
     "name": "stdout",
     "output_type": "stream",
     "text": [
      "['Amazon', 'clock', 'clock', 'clock', 'facebook', 'gpay', 'paytm', 'prime', 'twitter', 'uber', 'uber', 'youtube']\n"
     ]
    }
   ],
   "source": [
    "apps.sort()\n",
    "print(apps)"
   ]
  },
  {
   "cell_type": "code",
   "execution_count": 51,
   "id": "17d714e8",
   "metadata": {},
   "outputs": [
    {
     "name": "stdout",
     "output_type": "stream",
     "text": [
      "[]\n"
     ]
    }
   ],
   "source": [
    "cooy.clear()\n",
    "print(cooy)"
   ]
  },
  {
   "cell_type": "code",
   "execution_count": 34,
   "id": "06878188",
   "metadata": {},
   "outputs": [
    {
     "name": "stdout",
     "output_type": "stream",
     "text": [
      "['netflix', 'zepto', 'swiggy', 'instamart']\n"
     ]
    }
   ],
   "source": [
    "\n",
    "apps2=[\"netflix\",\"zepto\",\"swiggy\",\"instamart\"]\n",
    "print(apps2)"
   ]
  },
  {
   "cell_type": "code",
   "execution_count": 57,
   "id": "49ab7444",
   "metadata": {},
   "outputs": [
    {
     "name": "stdout",
     "output_type": "stream",
     "text": [
      "['netflix', 'zepto', 'swiggy', 'instamart', 'Amazon', 'clock', 'clock', 'clock', 'facebook', 'gpay', 'paytm', 'prime', 'twitter', 'uber', 'uber', 'youtube', 'netflix', 'zepto', 'swiggy', 'instamart', 'Amazon', 'clock', 'clock', 'clock', 'facebook', 'gpay', 'paytm', 'prime', 'twitter', 'uber', 'uber', 'youtube', 'netflix', 'zepto', 'swiggy', 'instamart', 'Amazon', 'clock', 'clock', 'clock', 'facebook', 'gpay', 'paytm', 'prime', 'twitter', 'uber', 'uber', 'youtube', 'netflix', 'zepto', 'swiggy', 'instamart']\n"
     ]
    }
   ],
   "source": [
    "apps2.extend(apps)\n",
    "print(apps2)\n"
   ]
  },
  {
   "cell_type": "code",
   "execution_count": 44,
   "id": "fc2a4a9f",
   "metadata": {},
   "outputs": [
    {
     "name": "stdout",
     "output_type": "stream",
     "text": [
      "['Amazon', 'clock', 'clock', 'clock', 'facebook', 'gpay', 'paytm', 'prime', 'twitter', 'uber', 'uber', 'youtube']\n"
     ]
    }
   ],
   "source": [
    "apps.remove(\"Snapchat\")\n",
    "print(apps)"
   ]
  },
  {
   "cell_type": "code",
   "execution_count": 38,
   "id": "985ba91e",
   "metadata": {},
   "outputs": [
    {
     "name": "stdout",
     "output_type": "stream",
     "text": [
      "['Amazon', 'Snapchat', 'clock', 'clock', 'clock', 'facebook', 'gpay', 'paytm', 'prime', 'twitter', 'uber', 'uber', 'youtube']\n"
     ]
    }
   ],
   "source": [
    "print(apps)"
   ]
  },
  {
   "cell_type": "code",
   "execution_count": 58,
   "id": "3b250b92",
   "metadata": {},
   "outputs": [
    {
     "name": "stdout",
     "output_type": "stream",
     "text": [
      "['zepto', 'youtube', 'uber', 'uber', 'twitter', 'swiggy', 'prime', 'paytm', 'netflix', 'instamart', 'gpay', 'facebook', 'clock', 'clock', 'clock', 'Amazon']\n"
     ]
    }
   ],
   "source": [
    "apps.sort(reverse=True)\n",
    "print(apps)"
   ]
  },
  {
   "cell_type": "code",
   "execution_count": null,
   "id": "e1095d7f",
   "metadata": {},
   "outputs": [],
   "source": []
  }
 ],
 "metadata": {
  "kernelspec": {
   "display_name": "base",
   "language": "python",
   "name": "python3"
  },
  "language_info": {
   "codemirror_mode": {
    "name": "ipython",
    "version": 3
   },
   "file_extension": ".py",
   "mimetype": "text/x-python",
   "name": "python",
   "nbconvert_exporter": "python",
   "pygments_lexer": "ipython3",
   "version": "3.12.4"
  }
 },
 "nbformat": 4,
 "nbformat_minor": 5
}
