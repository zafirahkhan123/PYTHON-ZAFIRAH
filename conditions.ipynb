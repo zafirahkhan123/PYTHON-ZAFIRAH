{
 "cells": [
  {
   "cell_type": "code",
   "execution_count": 7,
   "id": "27c0264e",
   "metadata": {},
   "outputs": [
    {
     "name": "stdout",
     "output_type": "stream",
     "text": [
      "you can vote\n"
     ]
    }
   ],
   "source": [
    "age=int(input(\"Enter Your Age\"))\n",
    "if (age>=18):\n",
    "    print(\"you can vote\")\n",
    "else :\n",
    "    print(\"You are underage\")\n"
   ]
  },
  {
   "cell_type": "code",
   "execution_count": null,
   "id": "823c0d0f",
   "metadata": {},
   "outputs": [
    {
     "name": "stdout",
     "output_type": "stream",
     "text": [
      "You choosed Onion Topping\n"
     ]
    }
   ],
   "source": [
    "#WAP to choose a pizza topping baed in user inout\n",
    "topping=input(\"Choose a pizza topping(Mushroom,Onion,Cheese)\")\n",
    "if topping==\"Cheese\" or topping==\"cheese\" or topping==\"CHEESE\":\n",
    "    print(\"You choosed Cheese Topping\")\n",
    "elif topping==\"Onion\"or topping==\"onion\"or topping==\"ONION\":\n",
    "    print(\"You choosed Onion Topping\")\n",
    "elif topping==\"Mushroom\" or topping==\"mushroon\"or topping==\"MUSHROOM\":\n",
    "    print(\"You choosed Mushroon Topping\")\n",
    "else:\n",
    "    print(\"PLease Select from the above menu only\")\n",
    "    "
   ]
  },
  {
   "cell_type": "code",
   "execution_count": 13,
   "id": "1915071e",
   "metadata": {},
   "outputs": [
    {
     "name": "stdout",
     "output_type": "stream",
     "text": [
      "Even\n"
     ]
    }
   ],
   "source": [
    "#WAP TO CHECK IF A NUMBER ISS EVEN OR ODD\n",
    "num=int(input(\"Enter a numbber\"))\n",
    "if num%2==0:\n",
    "    print(\"Even\")\n",
    "else :\n",
    "    print(\"odd\")"
   ]
  },
  {
   "cell_type": "markdown",
   "id": "c9261cdd",
   "metadata": {},
   "source": []
  },
  {
   "cell_type": "code",
   "execution_count": null,
   "id": "6260dcbf",
   "metadata": {},
   "outputs": [
    {
     "name": "stdout",
     "output_type": "stream",
     "text": [
      "negative\n"
     ]
    }
   ],
   "source": [
    "#wap to check if the number is positive negative or 0\n",
    "num= int(input(\"enter a number\") )\n",
    "if num==0:\n",
    "    print(\"number is 0\")\n",
    "elif num<=0:\n",
    "    print(\"negative\")\n",
    "elif:\n",
    "print(\"positive\")"
   ]
  },
  {
   "cell_type": "code",
   "execution_count": 16,
   "id": "1a81fb40",
   "metadata": {},
   "outputs": [
    {
     "name": "stdout",
     "output_type": "stream",
     "text": [
      "num2 is greater\n"
     ]
    }
   ],
   "source": [
    "#wap to to find the largest of 3 numbers\n",
    "num1=int(input(\"enter 1st number\"))\n",
    "num2=int(input(\"enter 2nd number\"))\n",
    "num3=int(input(\"enter 3rd number\"))\n",
    "if (num1>num2) and (num1>num3):\n",
    "    print(\"num one is greater\")\n",
    "elif (num2>num1) and (num2>num3):\n",
    "    print(\"num2 is greater\")\n",
    "else:\n",
    "    print(\"num3 is greater\")"
   ]
  },
  {
   "cell_type": "code",
   "execution_count": null,
   "id": "05fcaf03",
   "metadata": {},
   "outputs": [],
   "source": []
  }
 ],
 "metadata": {
  "kernelspec": {
   "display_name": "base",
   "language": "python",
   "name": "python3"
  },
  "language_info": {
   "codemirror_mode": {
    "name": "ipython",
    "version": 3
   },
   "file_extension": ".py",
   "mimetype": "text/x-python",
   "name": "python",
   "nbconvert_exporter": "python",
   "pygments_lexer": "ipython3",
   "version": "3.12.4"
  }
 },
 "nbformat": 4,
 "nbformat_minor": 5
}
